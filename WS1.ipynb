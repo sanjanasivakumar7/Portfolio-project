{
 "cells": [
  {
   "cell_type": "code",
   "execution_count": 10,
   "metadata": {},
   "outputs": [],
   "source": [
    "#import lib\n",
    "\n",
    "import csv\n",
    "import time\n",
    "import datetime\n",
    "import smtplib\n",
    "from bs4 import BeautifulSoup\n",
    "import requests"
   ]
  },
  {
   "cell_type": "code",
   "execution_count": 11,
   "metadata": {},
   "outputs": [
    {
     "name": "stdout",
     "output_type": "stream",
     "text": [
      "\n",
      "            Echo Dot (4th Gen, 2020 release) with clock | Next generation smart speaker with powerful bass, LED display and Alexa (Blue)\n",
      "           \n",
      "\n",
      "           Brand: Amazon\n",
      "          \n",
      "\n",
      "\n",
      "                         In stock.\n",
      "                        \n",
      "\n",
      "\n"
     ]
    }
   ],
   "source": [
    "#getting info from web\n",
    "\n",
    "URL = 'https://www.amazon.in/dp/B085M5R82K/ref=pav_d_fromAsin_B07PFFMP9P_toAsin_B085M5R82K'\n",
    "\n",
    "headers = {\"User-Agent\": \"Mozilla/5.0 (Windows NT 10.0; Win64; x64) AppleWebKit/537.36 (KHTML, like Gecko) Chrome/97.0.4692.71 Safari/537.36\"}\n",
    "\n",
    "page = requests.get(URL, headers=headers)\n",
    "\n",
    "Soup1 = BeautifulSoup(page.content,\"html.parser\")\n",
    "\n",
    "Soup2 = BeautifulSoup(Soup1.prettify(), \"html.parser\")\n",
    "\n",
    "#print(Soup2)\n",
    "\n",
    "Title = Soup2.find(id=\"productTitle\").get_text()\n",
    "\n",
    "Brand = Soup2.find(id=\"bylineInfo\").get_text()\n",
    "\n",
    "Availability = Soup2.find(id=\"availability\").get_text()\n",
    "\n",
    "print(Title)\n",
    "print(Brand)\n",
    "print(Availability)\n"
   ]
  },
  {
   "cell_type": "code",
   "execution_count": 18,
   "metadata": {},
   "outputs": [
    {
     "name": "stdout",
     "output_type": "stream",
     "text": [
      "Echo Dot (4th Gen, 2020 release) with clock | Next generation smart speaker with powerful bass, LED display and Alexa (Blue)\n",
      "Brand: Amazon\n",
      "In stock.\n",
      "2022-01-22\n"
     ]
    }
   ],
   "source": [
    "Title = Title.strip()\n",
    "Brand = Brand.strip()\n",
    "Availability = Availability.strip()\n",
    "\n",
    "print(Title)\n",
    "print(Brand)\n",
    "print(Availability)\n",
    "\n",
    "#adding time stamp \n",
    "\n",
    "Today = datetime.date.today()\n",
    "print (Today)"
   ]
  },
  {
   "cell_type": "code",
   "execution_count": 19,
   "metadata": {},
   "outputs": [],
   "source": [
    "# creating csv file \n",
    "\n",
    "\n",
    "Headers = ['Title', 'Brand', 'Availability','Date']\n",
    "data = [Title, Brand, Availability, Today]\n",
    "\n",
    "with open('WS1.csv', 'w', newline='', encoding='UTF8') as f:\n",
    "        writer = csv.writer(f)\n",
    "        \n",
    "        writer.writerow(Headers)\n",
    "        writer.writerow(data)"
   ]
  },
  {
   "cell_type": "code",
   "execution_count": 25,
   "metadata": {},
   "outputs": [
    {
     "name": "stdout",
     "output_type": "stream",
     "text": [
      "                                               Title          Brand  \\\n",
      "0  Echo Dot (4th Gen, 2020 release) with clock | ...  Brand: Amazon   \n",
      "1  Echo Dot (4th Gen, 2020 release) with clock | ...  Brand: Amazon   \n",
      "\n",
      "  Availability        Date  \n",
      "0    In stock.  2022-01-22  \n",
      "1    In stock.  2022-01-22  \n"
     ]
    }
   ],
   "source": [
    "#chceking file\n",
    "\n",
    "import pandas as pd\n",
    "\n",
    "df = pd.read_csv(r'C:\\Users\\Sanjana Sivakumar\\WS1.csv')\n",
    "print (df)"
   ]
  },
  {
   "cell_type": "code",
   "execution_count": 24,
   "metadata": {},
   "outputs": [],
   "source": [
    "#appending data\n",
    "\n",
    "with open('WS1.csv', 'a+', newline='', encoding='UTF8') as f:\n",
    "        writer = csv.writer(f)\n",
    "        \n",
    "        writer.writerow(data)"
   ]
  },
  {
   "cell_type": "code",
   "execution_count": 26,
   "metadata": {},
   "outputs": [],
   "source": [
    "#automating the process\n",
    "\n",
    "def check_item():\n",
    "       URL = 'https://www.amazon.in/dp/B085M5R82K/ref=pav_d_fromAsin_B07PFFMP9P_toAsin_B085M5R82K'\n",
    "\n",
    "       headers = {\"User-Agent\": \"Mozilla/5.0 (Windows NT 10.0; Win64; x64) AppleWebKit/537.36 (KHTML, like Gecko) Chrome/97.0.4692.71 Safari/537.36\"}\n",
    "\n",
    "       page = requests.get(URL, headers=headers)\n",
    "\n",
    "       Soup1 = BeautifulSoup(page.content,\"html.parser\")\n",
    "\n",
    "       Soup2 = BeautifulSoup(Soup1.prettify(), \"html.parser\")\n",
    "\n",
    "       #print(Soup2)\n",
    "\n",
    "       Title = Soup2.find(id=\"productTitle\").get_text()\n",
    "\n",
    "       Brand = Soup2.find(id=\"bylineInfo\").get_text()\n",
    "\n",
    "       Availability = Soup2.find(id=\"availability\").get_text()\n",
    "        \n",
    "       Title = Title.strip()\n",
    "       Brand = Brand.strip()\n",
    "       Availability = Availability.strip()\n",
    "    \n",
    "       Today = datetime.date.today()\n",
    "        \n",
    "       Headers = ['Title', 'Brand', 'Availability','Date']\n",
    "       data = [Title, Brand, Availability, Today]\n",
    "        \n",
    "       with open('WS1.csv', 'a+', newline='', encoding='UTF8') as f:\n",
    "        writer = csv.writer(f)\n",
    "        writer.writerow(data)\n",
    "    \n"
   ]
  },
  {
   "cell_type": "code",
   "execution_count": null,
   "metadata": {},
   "outputs": [],
   "source": [
    "#timer\n",
    "\n",
    "while(True):\n",
    "    check_item()\n",
    "    time.sleep(86400) # once every day 60X60X24\n",
    "    "
   ]
  }
 ],
 "metadata": {
  "kernelspec": {
   "display_name": "Python 3",
   "language": "python",
   "name": "python3"
  },
  "language_info": {
   "codemirror_mode": {
    "name": "ipython",
    "version": 3
   },
   "file_extension": ".py",
   "mimetype": "text/x-python",
   "name": "python",
   "nbconvert_exporter": "python",
   "pygments_lexer": "ipython3",
   "version": "3.7.4"
  }
 },
 "nbformat": 4,
 "nbformat_minor": 2
}
